{
  "cells": [
    {
      "cell_type": "markdown",
      "metadata": {
        "colab_type": "text",
        "id": "view-in-github"
      },
      "source": [
        "<a href=\"https://colab.research.google.com/github/DC-Jade/2024_nlp/blob/main/1_Colabl%E7%BB%83%E4%B9%A0.ipynb\" target=\"_parent\"><img src=\"https://colab.research.google.com/assets/colab-badge.svg\" alt=\"Open In Colab\"/></a>"
      ]
    },
    {
      "cell_type": "markdown",
      "metadata": {
        "id": "A0j_COxwwn6i"
      },
      "source": [
        "\n",
        "\n",
        "#作业说明：\n",
        "**任务：** 完成以下编程练习。\n",
        "\n",
        "\n",
        "在打开的笔记本中，点击菜单栏中的“文件”->“另存为副本”，以创建自己的副本来完成作业。\n",
        "\n",
        "完成作业后，请将您的副本提交至[Canvas 作业提交网址](https://canvas.bbhm.tech/)。\n"
      ]
    },
    {
      "cell_type": "markdown",
      "metadata": {
        "id": "loFh96uFfHYU"
      },
      "source": [
        "#练习：计算斐波那契数列**\n",
        "\n",
        "编写一个Python函数，接受一个整数 n 作为参数，返回斐波那契数列中第 n 个数的值。斐波那契数列的定义如下：\n",
        "\n",
        "第0个数为0，第1个数为1。\n",
        "从第2个数开始，每个数都等于前两个数之和。\n",
        "例如，斐波那契数列的前几个数为：0, 1, 1, 2, 3, 5, 8, 13, ...\n",
        "\n",
        "**要求：**\n",
        "\n",
        "编写一个名为 fibonacci 的函数，接受一个整数参数 n。\n",
        "函数应返回斐波那契数列中第 n 个数的值。\n",
        "在Colab中调用该函数，并输出斐波那契数列中第 n 个数的值。"
      ]
    },
    {
      "cell_type": "code",
      "execution_count": null,
      "metadata": {
        "colab": {
          "base_uri": "https://localhost:8080/"
        },
        "id": "xvEE-CMlfNUu",
        "outputId": "3de8d14f-06d4-4fa1-a5f0-778964383bda"
      },
      "outputs": [],
      "source": [
        "def fibonacci(n):\n",
        "    # 请填写斐波那契数列的实现\n",
        "    lhs = 0; rhs = 1; res = 0\n",
        "    if (n == 0):\n",
        "        res = lhs; return res\n",
        "    elif (n == 1):\n",
        "        res = rhs; return res\n",
        "    for i in range(1, n):\n",
        "        res = lhs + rhs; lhs = rhs; rhs = res\n",
        "    return res\n",
        "        \n",
        "# 测试代码\n",
        "n = 10  # 修改 n 的值来测试不同的斐波那契数列项\n",
        "result = fibonacci(n)\n",
        "print(f\"The {n}th Fibonacci number is: {result}\")\n"
      ]
    },
    {
      "cell_type": "markdown",
      "metadata": {
        "id": "Cxln3gVAiEtT"
      },
      "source": [
        "#练习：实现ReLU激活函数**\n",
        "\n",
        "ReLU（Rectified Linear Unit）是一种常用的激活函数，其定义如下：\n",
        "\n",
        "当输入 x 大于等于 0 时，ReLU 函数的输出为 x。\n",
        "当输入 x 小于 0 时，ReLU 函数的输出为 0。\n",
        "编写一个名为 relu 的函数，接受一个实数参数 x，并返回对应的ReLU函数的输出。\n",
        "\n",
        "**要求：**\n",
        "\n",
        "编写一个名为 relu 的函数，接受一个实数参数 x。\n",
        "函数应返回对应的ReLU函数的输出。\n",
        "以下是示例代码框架，请填写代码实现："
      ]
    },
    {
      "cell_type": "code",
      "execution_count": null,
      "metadata": {
        "colab": {
          "base_uri": "https://localhost:8080/"
        },
        "id": "LqJJYAeWhaIB",
        "outputId": "8a6e4e61-b571-41aa-f53d-f6c2f49513f1"
      },
      "outputs": [],
      "source": [
        "def relu(x):\n",
        "    # 请填写ReLU激活函数的实现\n",
        "    if (x < 0): return 0\n",
        "    else: return x\n",
        "\n",
        "# 测试代码\n",
        "x = 5  # 修改 x 的值来测试不同的输入\n",
        "result = relu(x)\n",
        "print(f\"The output of ReLU function for input {x} is: {result}\")\n"
      ]
    },
    {
      "cell_type": "markdown",
      "metadata": {
        "id": "3yZhMdRKfdcb"
      },
      "source": [
        "#练习：实现一个三层神经网络**\n",
        "\n",
        "编写一个Python类 NeuralNetwork，实现一个简单的三层神经网络，包括输入层、隐藏层和输出层。该神经网络应具有以下特征：\n",
        "\n",
        "1. 输入层有两个神经元。\n",
        "2. 隐藏层有三个神经元。\n",
        "3. 输出层有一个神经元。\n",
        "4. 使用 Sigmoid 激活函数。\n",
        "5. 实现前向传播（Forward Propagation）和反向传播（Backpropagation）算法。\n",
        "\n",
        "\n",
        "以下是一个基于Python的示例实现, 请补充激活函数部分："
      ]
    },
    {
      "cell_type": "code",
      "execution_count": null,
      "metadata": {},
      "outputs": [],
      "source": [
        "?np.random.rand"
      ]
    },
    {
      "cell_type": "code",
      "execution_count": 5,
      "metadata": {
        "colab": {
          "base_uri": "https://localhost:8080/"
        },
        "id": "Ew4nwPmlisEx",
        "outputId": "6d90de48-8bf0-4f4f-cf78-d578024376c2"
      },
      "outputs": [
        {
          "name": "stdout",
          "output_type": "stream",
          "text": [
            "Input: [0 0], Predicted Output: [0.14054688]\n",
            "Input: [0 1], Predicted Output: [0.90290224]\n",
            "Input: [1 0], Predicted Output: [0.90276508]\n",
            "Input: [1 1], Predicted Output: [0.06644864]\n"
          ]
        }
      ],
      "source": [
        "import numpy as np\n",
        "\n",
        "class NeuralNetwork:\n",
        "    def __init__(self):\n",
        "        # 随机初始化权重\n",
        "        self.weights_input_hidden = np.random.rand(2, 3)\n",
        "        \n",
        "        self.weights_hidden_output = np.random.rand(3, 1)\n",
        "\n",
        "    def sigmoid(self, x):\n",
        "        #请补充函数实现\n",
        "        # pass\n",
        "        return 1 / (1 + np.exp(-x))\n",
        "\n",
        "    def sigmoid_derivative(self, x):\n",
        "        #请补充函数实现\n",
        "        # pass\n",
        "        return x * (1 - x)\n",
        "\n",
        "    def forward_propagation(self, inputs):\n",
        "        # 输入层到隐藏层\n",
        "        hidden_inputs = np.dot(inputs, self.weights_input_hidden)\n",
        "        hidden_outputs = self.sigmoid(hidden_inputs)\n",
        "\n",
        "        # 隐藏层到输出层\n",
        "        final_inputs = np.dot(hidden_outputs, self.weights_hidden_output)\n",
        "        final_outputs = self.sigmoid(final_inputs)\n",
        "\n",
        "        return final_outputs\n",
        "\n",
        "    def backpropagation(self, inputs, outputs, learning_rate):\n",
        "        # 前向传播\n",
        "        hidden_inputs = np.dot(inputs, self.weights_input_hidden)\n",
        "        hidden_outputs = self.sigmoid(hidden_inputs)\n",
        "        final_inputs = np.dot(hidden_outputs, self.weights_hidden_output)\n",
        "        final_outputs = self.sigmoid(final_inputs)\n",
        "\n",
        "        # 计算输出层误差和输出层的delta\n",
        "        error = outputs - final_outputs\n",
        "        output_delta = error * self.sigmoid_derivative(final_outputs)\n",
        "\n",
        "        # 计算隐藏层的误差和隐藏层的delta\n",
        "        hidden_error = np.dot(output_delta, self.weights_hidden_output.T)\n",
        "        hidden_delta = hidden_error * self.sigmoid_derivative(hidden_outputs)\n",
        "\n",
        "        # 更新权重\n",
        "        self.weights_hidden_output += np.dot(hidden_outputs.reshape(-1, 1), output_delta.reshape(1, -1)) * learning_rate\n",
        "        self.weights_input_hidden += np.dot(inputs.reshape(-1, 1), hidden_delta.reshape(1, -1)) * learning_rate\n",
        "\n",
        "\n",
        "# 测试代码\n",
        "if __name__ == \"__main__\":\n",
        "    # 初始化神经网络\n",
        "    neural_network = NeuralNetwork()\n",
        "\n",
        "    # 输入样本和目标输出\n",
        "    inputs = np.array([[0, 0], [0, 1], [1, 0], [1, 1]])\n",
        "    outputs = np.array([[0], [1], [1], [0]])\n",
        "\n",
        "    # 训练神经网络\n",
        "    epochs = 10000\n",
        "    learning_rate = 0.1\n",
        "    for epoch in range(epochs):\n",
        "        for i in range(len(inputs)):\n",
        "            neural_network.backpropagation(inputs[i], outputs[i], learning_rate)\n",
        "\n",
        "    # 测试神经网络\n",
        "    for i in range(len(inputs)):\n",
        "        predicted_output = neural_network.forward_propagation(inputs[i])\n",
        "        print(f\"Input: {inputs[i]}, Predicted Output: {predicted_output}\")\n",
        "\n"
      ]
    }
  ],
  "metadata": {
    "colab": {
      "include_colab_link": true,
      "provenance": []
    },
    "kernelspec": {
      "display_name": "Python 3",
      "name": "python3"
    },
    "language_info": {
      "codemirror_mode": {
        "name": "ipython",
        "version": 3
      },
      "file_extension": ".py",
      "mimetype": "text/x-python",
      "name": "python",
      "nbconvert_exporter": "python",
      "pygments_lexer": "ipython3",
      "version": "3.10.12"
    }
  },
  "nbformat": 4,
  "nbformat_minor": 0
}
